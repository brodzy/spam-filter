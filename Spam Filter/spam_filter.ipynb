{
  "cells": [
    {
      "cell_type": "code",
      "execution_count": null,
      "metadata": {
        "id": "OG9HRbvjSMzB",
        "colab": {
          "base_uri": "https://localhost:8080/"
        },
        "outputId": "d3b727c3-bdc1-4d84-f23a-6ddce68db25c"
      },
      "outputs": [
        {
          "output_type": "stream",
          "name": "stdout",
          "text": [
            "Looking in indexes: https://pypi.org/simple, https://us-python.pkg.dev/colab-wheels/public/simple/\n",
            "Requirement already satisfied: contractions in /usr/local/lib/python3.7/dist-packages (0.1.72)\n",
            "Requirement already satisfied: textsearch>=0.0.21 in /usr/local/lib/python3.7/dist-packages (from contractions) (0.0.24)\n",
            "Requirement already satisfied: pyahocorasick in /usr/local/lib/python3.7/dist-packages (from textsearch>=0.0.21->contractions) (1.4.4)\n",
            "Requirement already satisfied: anyascii in /usr/local/lib/python3.7/dist-packages (from textsearch>=0.0.21->contractions) (0.3.1)\n",
            "Looking in indexes: https://pypi.org/simple, https://us-python.pkg.dev/colab-wheels/public/simple/\n",
            "Requirement already satisfied: cleantext in /usr/local/lib/python3.7/dist-packages (1.1.4)\n",
            "Requirement already satisfied: nltk in /usr/local/lib/python3.7/dist-packages (from cleantext) (3.7)\n",
            "Requirement already satisfied: tqdm in /usr/local/lib/python3.7/dist-packages (from nltk->cleantext) (4.64.1)\n",
            "Requirement already satisfied: joblib in /usr/local/lib/python3.7/dist-packages (from nltk->cleantext) (1.2.0)\n",
            "Requirement already satisfied: click in /usr/local/lib/python3.7/dist-packages (from nltk->cleantext) (7.1.2)\n",
            "Requirement already satisfied: regex>=2021.8.3 in /usr/local/lib/python3.7/dist-packages (from nltk->cleantext) (2022.6.2)\n"
          ]
        },
        {
          "output_type": "stream",
          "name": "stderr",
          "text": [
            "[nltk_data] Downloading package stopwords to /root/nltk_data...\n",
            "[nltk_data]   Package stopwords is already up-to-date!\n",
            "[nltk_data] Downloading package punkt to /root/nltk_data...\n",
            "[nltk_data]   Package punkt is already up-to-date!\n"
          ]
        }
      ],
      "source": [
        "# Importing libraries\n",
        "!pip install contractions\n",
        "!pip install cleantext\n",
        "\n",
        "import numpy as np\n",
        "import pandas as pd\n",
        "import matplotlib.pyplot as plt\n",
        "import string\n",
        "import re\n",
        "import contractions\n",
        "import cleantext\n",
        "import nltk\n",
        "from nltk.corpus import stopwords\n",
        "from nltk.tokenize import word_tokenize\n",
        "from nltk.stem import PorterStemmer\n",
        "\n",
        "nltk.download('stopwords')\n",
        "nltk.download('punkt')\n",
        "stop_words = set(stopwords.words('english'))\n",
        "ps = PorterStemmer()"
      ]
    },
    {
      "cell_type": "code",
      "execution_count": null,
      "metadata": {
        "id": "g6r9sXk5STKE",
        "colab": {
          "base_uri": "https://localhost:8080/"
        },
        "outputId": "f0d8f38a-0cf6-4b34-8d2e-81490581386a"
      },
      "outputs": [
        {
          "output_type": "stream",
          "name": "stdout",
          "text": [
            "--2022-10-25 23:58:58--  https://raw.githubusercontent.com/tasdikrahman/datasets/master/email/csv/spam-apache.csv\n",
            "Resolving raw.githubusercontent.com (raw.githubusercontent.com)... 185.199.109.133, 185.199.111.133, 185.199.110.133, ...\n",
            "Connecting to raw.githubusercontent.com (raw.githubusercontent.com)|185.199.109.133|:443... connected.\n",
            "HTTP request sent, awaiting response... 200 OK\n",
            "Length: 366506 (358K) [text/plain]\n",
            "Saving to: ‘spam-apache.csv.1’\n",
            "\n",
            "\rspam-apache.csv.1     0%[                    ]       0  --.-KB/s               \rspam-apache.csv.1   100%[===================>] 357.92K  --.-KB/s    in 0.03s   \n",
            "\n",
            "2022-10-25 23:58:58 (10.0 MB/s) - ‘spam-apache.csv.1’ saved [366506/366506]\n",
            "\n"
          ]
        }
      ],
      "source": [
        "# Get preprocessed dataset\n",
        "!wget https://raw.githubusercontent.com/tasdikrahman/datasets/master/email/csv/spam-apache.csv"
      ]
    },
    {
      "cell_type": "code",
      "execution_count": null,
      "metadata": {
        "id": "dRQKdA6uSTpq",
        "colab": {
          "base_uri": "https://localhost:8080/",
          "height": 206
        },
        "outputId": "a49171ce-2297-4436-e506-d77f44ce2b72"
      },
      "outputs": [
        {
          "output_type": "execute_result",
          "data": {
            "text/plain": [
              "    spam                                               text\n",
              "0   True  <!DOCTYPE HTML PUBLIC \"-//W3C//DTD HTML 4.0 Tr...\n",
              "1  False  > Russell Turpin:\\n> > That depends on how the...\n",
              "2   True  Help wanted.  We are a 14 year old fortune 500...\n",
              "3   True  Request A Free No Obligation Consultation!\\nAc...\n",
              "4  False  Is there a way to look for a particular file o..."
            ],
            "text/html": [
              "\n",
              "  <div id=\"df-614d1470-da31-41bf-bd27-aa2d29b696a0\">\n",
              "    <div class=\"colab-df-container\">\n",
              "      <div>\n",
              "<style scoped>\n",
              "    .dataframe tbody tr th:only-of-type {\n",
              "        vertical-align: middle;\n",
              "    }\n",
              "\n",
              "    .dataframe tbody tr th {\n",
              "        vertical-align: top;\n",
              "    }\n",
              "\n",
              "    .dataframe thead th {\n",
              "        text-align: right;\n",
              "    }\n",
              "</style>\n",
              "<table border=\"1\" class=\"dataframe\">\n",
              "  <thead>\n",
              "    <tr style=\"text-align: right;\">\n",
              "      <th></th>\n",
              "      <th>spam</th>\n",
              "      <th>text</th>\n",
              "    </tr>\n",
              "  </thead>\n",
              "  <tbody>\n",
              "    <tr>\n",
              "      <th>0</th>\n",
              "      <td>True</td>\n",
              "      <td>&lt;!DOCTYPE HTML PUBLIC \"-//W3C//DTD HTML 4.0 Tr...</td>\n",
              "    </tr>\n",
              "    <tr>\n",
              "      <th>1</th>\n",
              "      <td>False</td>\n",
              "      <td>&gt; Russell Turpin:\\n&gt; &gt; That depends on how the...</td>\n",
              "    </tr>\n",
              "    <tr>\n",
              "      <th>2</th>\n",
              "      <td>True</td>\n",
              "      <td>Help wanted.  We are a 14 year old fortune 500...</td>\n",
              "    </tr>\n",
              "    <tr>\n",
              "      <th>3</th>\n",
              "      <td>True</td>\n",
              "      <td>Request A Free No Obligation Consultation!\\nAc...</td>\n",
              "    </tr>\n",
              "    <tr>\n",
              "      <th>4</th>\n",
              "      <td>False</td>\n",
              "      <td>Is there a way to look for a particular file o...</td>\n",
              "    </tr>\n",
              "  </tbody>\n",
              "</table>\n",
              "</div>\n",
              "      <button class=\"colab-df-convert\" onclick=\"convertToInteractive('df-614d1470-da31-41bf-bd27-aa2d29b696a0')\"\n",
              "              title=\"Convert this dataframe to an interactive table.\"\n",
              "              style=\"display:none;\">\n",
              "        \n",
              "  <svg xmlns=\"http://www.w3.org/2000/svg\" height=\"24px\"viewBox=\"0 0 24 24\"\n",
              "       width=\"24px\">\n",
              "    <path d=\"M0 0h24v24H0V0z\" fill=\"none\"/>\n",
              "    <path d=\"M18.56 5.44l.94 2.06.94-2.06 2.06-.94-2.06-.94-.94-2.06-.94 2.06-2.06.94zm-11 1L8.5 8.5l.94-2.06 2.06-.94-2.06-.94L8.5 2.5l-.94 2.06-2.06.94zm10 10l.94 2.06.94-2.06 2.06-.94-2.06-.94-.94-2.06-.94 2.06-2.06.94z\"/><path d=\"M17.41 7.96l-1.37-1.37c-.4-.4-.92-.59-1.43-.59-.52 0-1.04.2-1.43.59L10.3 9.45l-7.72 7.72c-.78.78-.78 2.05 0 2.83L4 21.41c.39.39.9.59 1.41.59.51 0 1.02-.2 1.41-.59l7.78-7.78 2.81-2.81c.8-.78.8-2.07 0-2.86zM5.41 20L4 18.59l7.72-7.72 1.47 1.35L5.41 20z\"/>\n",
              "  </svg>\n",
              "      </button>\n",
              "      \n",
              "  <style>\n",
              "    .colab-df-container {\n",
              "      display:flex;\n",
              "      flex-wrap:wrap;\n",
              "      gap: 12px;\n",
              "    }\n",
              "\n",
              "    .colab-df-convert {\n",
              "      background-color: #E8F0FE;\n",
              "      border: none;\n",
              "      border-radius: 50%;\n",
              "      cursor: pointer;\n",
              "      display: none;\n",
              "      fill: #1967D2;\n",
              "      height: 32px;\n",
              "      padding: 0 0 0 0;\n",
              "      width: 32px;\n",
              "    }\n",
              "\n",
              "    .colab-df-convert:hover {\n",
              "      background-color: #E2EBFA;\n",
              "      box-shadow: 0px 1px 2px rgba(60, 64, 67, 0.3), 0px 1px 3px 1px rgba(60, 64, 67, 0.15);\n",
              "      fill: #174EA6;\n",
              "    }\n",
              "\n",
              "    [theme=dark] .colab-df-convert {\n",
              "      background-color: #3B4455;\n",
              "      fill: #D2E3FC;\n",
              "    }\n",
              "\n",
              "    [theme=dark] .colab-df-convert:hover {\n",
              "      background-color: #434B5C;\n",
              "      box-shadow: 0px 1px 3px 1px rgba(0, 0, 0, 0.15);\n",
              "      filter: drop-shadow(0px 1px 2px rgba(0, 0, 0, 0.3));\n",
              "      fill: #FFFFFF;\n",
              "    }\n",
              "  </style>\n",
              "\n",
              "      <script>\n",
              "        const buttonEl =\n",
              "          document.querySelector('#df-614d1470-da31-41bf-bd27-aa2d29b696a0 button.colab-df-convert');\n",
              "        buttonEl.style.display =\n",
              "          google.colab.kernel.accessAllowed ? 'block' : 'none';\n",
              "\n",
              "        async function convertToInteractive(key) {\n",
              "          const element = document.querySelector('#df-614d1470-da31-41bf-bd27-aa2d29b696a0');\n",
              "          const dataTable =\n",
              "            await google.colab.kernel.invokeFunction('convertToInteractive',\n",
              "                                                     [key], {});\n",
              "          if (!dataTable) return;\n",
              "\n",
              "          const docLinkHtml = 'Like what you see? Visit the ' +\n",
              "            '<a target=\"_blank\" href=https://colab.research.google.com/notebooks/data_table.ipynb>data table notebook</a>'\n",
              "            + ' to learn more about interactive tables.';\n",
              "          element.innerHTML = '';\n",
              "          dataTable['output_type'] = 'display_data';\n",
              "          await google.colab.output.renderOutput(dataTable, element);\n",
              "          const docLink = document.createElement('div');\n",
              "          docLink.innerHTML = docLinkHtml;\n",
              "          element.appendChild(docLink);\n",
              "        }\n",
              "      </script>\n",
              "    </div>\n",
              "  </div>\n",
              "  "
            ]
          },
          "metadata": {},
          "execution_count": 31
        }
      ],
      "source": [
        "# Read dataset and convert -1 and 1 to boolean\n",
        "email_data = pd.read_csv(\"spam-apache.csv\", header=None, names=['spam', 'text'])\n",
        "email_data.spam = email_data.spam.apply(lambda s: True if s==-1 else False)\n",
        "email_data.head()"
      ]
    },
    {
      "cell_type": "code",
      "execution_count": null,
      "metadata": {
        "id": "ghPs7nTTT2qV",
        "colab": {
          "base_uri": "https://localhost:8080/"
        },
        "outputId": "0bc1ffed-3044-491e-c304-619942027d33"
      },
      "outputs": [
        {
          "output_type": "stream",
          "name": "stdout",
          "text": [
            "True     125\n",
            "False    125\n",
            "Name: spam, dtype: int64\n",
            "True     0.5\n",
            "False    0.5\n",
            "Name: spam, dtype: float64\n"
          ]
        }
      ],
      "source": [
        "# How many samples in dataframe of spam or ham\n",
        "print(email_data.spam.value_counts())\n",
        "print(email_data.spam.value_counts(normalize=True))"
      ]
    },
    {
      "cell_type": "code",
      "execution_count": null,
      "metadata": {
        "id": "Hk-IkyppU9dl"
      },
      "outputs": [],
      "source": [
        "# Text preprocessing/filtering\n",
        "\n",
        "def text_preprocessing(text):\n",
        "  # Normalization\n",
        "  text = text.lower() # lowercase\n",
        "  text = re.sub('\\w*\\d\\w*', '', text) # remove digits\n",
        "  text = re.sub('\\n', ' ', text) # replace new line chars with space\n",
        "  text = re.sub('[''\"\"...]', '', text) # remove double and single quotes\n",
        "  text = re.sub('<.*?>', '', text) # remove html tags\n",
        "  text = re.sub('r\\[.*?\\]', '', text) # remove []\n",
        "  text = re.sub('https?://\\S+|www.\\.\\S+', '', text) # remove URLs\n",
        "  text = re.sub('\\n', ' ', text) #replace new line chars with space\n",
        "  text = ''.join([c for c in text if c not in string.punctuation]) # remove puncuations\n",
        "  text = ' '.join([contractions.fix(word) for word in text.split()]) # expand contractions\n",
        "\n",
        "  # Toeknization\n",
        "  tokens = word_tokenize(text) # tokenize string\n",
        "  text = ''.join([c for c in text if c not in string.punctuation]) # remove puncuations\n",
        "  tokens = [token for token in tokens if token not in stop_words] # remove stopwords\n",
        "  tokens = [ps.stem(token) for token in tokens] # stemming\n",
        "  new_text = ' '.join(tokens) # creating new string\n",
        "\n",
        "  return new_text"
      ]
    },
    {
      "cell_type": "code",
      "execution_count": null,
      "metadata": {
        "colab": {
          "base_uri": "https://localhost:8080/",
          "height": 206
        },
        "id": "nxfAygX1ZuWg",
        "outputId": "e5a3bf79-7b89-4ec5-fa1b-ca2c109fafcb"
      },
      "outputs": [
        {
          "output_type": "execute_result",
          "data": {
            "text/plain": [
              "    spam                                               text\n",
              "0   True  dear frienda recent survey nielsennetr say int...\n",
              "1  False  russel turpin depend list collect even sender ...\n",
              "2   True  help want year old fortun compani grow tremend...\n",
              "3   True  request free oblig consult accept credit card ...\n",
              "4  False  way look particular file directori zip file so..."
            ],
            "text/html": [
              "\n",
              "  <div id=\"df-0d393c61-6fb5-4c18-8f63-be85761f1091\">\n",
              "    <div class=\"colab-df-container\">\n",
              "      <div>\n",
              "<style scoped>\n",
              "    .dataframe tbody tr th:only-of-type {\n",
              "        vertical-align: middle;\n",
              "    }\n",
              "\n",
              "    .dataframe tbody tr th {\n",
              "        vertical-align: top;\n",
              "    }\n",
              "\n",
              "    .dataframe thead th {\n",
              "        text-align: right;\n",
              "    }\n",
              "</style>\n",
              "<table border=\"1\" class=\"dataframe\">\n",
              "  <thead>\n",
              "    <tr style=\"text-align: right;\">\n",
              "      <th></th>\n",
              "      <th>spam</th>\n",
              "      <th>text</th>\n",
              "    </tr>\n",
              "  </thead>\n",
              "  <tbody>\n",
              "    <tr>\n",
              "      <th>0</th>\n",
              "      <td>True</td>\n",
              "      <td>dear frienda recent survey nielsennetr say int...</td>\n",
              "    </tr>\n",
              "    <tr>\n",
              "      <th>1</th>\n",
              "      <td>False</td>\n",
              "      <td>russel turpin depend list collect even sender ...</td>\n",
              "    </tr>\n",
              "    <tr>\n",
              "      <th>2</th>\n",
              "      <td>True</td>\n",
              "      <td>help want year old fortun compani grow tremend...</td>\n",
              "    </tr>\n",
              "    <tr>\n",
              "      <th>3</th>\n",
              "      <td>True</td>\n",
              "      <td>request free oblig consult accept credit card ...</td>\n",
              "    </tr>\n",
              "    <tr>\n",
              "      <th>4</th>\n",
              "      <td>False</td>\n",
              "      <td>way look particular file directori zip file so...</td>\n",
              "    </tr>\n",
              "  </tbody>\n",
              "</table>\n",
              "</div>\n",
              "      <button class=\"colab-df-convert\" onclick=\"convertToInteractive('df-0d393c61-6fb5-4c18-8f63-be85761f1091')\"\n",
              "              title=\"Convert this dataframe to an interactive table.\"\n",
              "              style=\"display:none;\">\n",
              "        \n",
              "  <svg xmlns=\"http://www.w3.org/2000/svg\" height=\"24px\"viewBox=\"0 0 24 24\"\n",
              "       width=\"24px\">\n",
              "    <path d=\"M0 0h24v24H0V0z\" fill=\"none\"/>\n",
              "    <path d=\"M18.56 5.44l.94 2.06.94-2.06 2.06-.94-2.06-.94-.94-2.06-.94 2.06-2.06.94zm-11 1L8.5 8.5l.94-2.06 2.06-.94-2.06-.94L8.5 2.5l-.94 2.06-2.06.94zm10 10l.94 2.06.94-2.06 2.06-.94-2.06-.94-.94-2.06-.94 2.06-2.06.94z\"/><path d=\"M17.41 7.96l-1.37-1.37c-.4-.4-.92-.59-1.43-.59-.52 0-1.04.2-1.43.59L10.3 9.45l-7.72 7.72c-.78.78-.78 2.05 0 2.83L4 21.41c.39.39.9.59 1.41.59.51 0 1.02-.2 1.41-.59l7.78-7.78 2.81-2.81c.8-.78.8-2.07 0-2.86zM5.41 20L4 18.59l7.72-7.72 1.47 1.35L5.41 20z\"/>\n",
              "  </svg>\n",
              "      </button>\n",
              "      \n",
              "  <style>\n",
              "    .colab-df-container {\n",
              "      display:flex;\n",
              "      flex-wrap:wrap;\n",
              "      gap: 12px;\n",
              "    }\n",
              "\n",
              "    .colab-df-convert {\n",
              "      background-color: #E8F0FE;\n",
              "      border: none;\n",
              "      border-radius: 50%;\n",
              "      cursor: pointer;\n",
              "      display: none;\n",
              "      fill: #1967D2;\n",
              "      height: 32px;\n",
              "      padding: 0 0 0 0;\n",
              "      width: 32px;\n",
              "    }\n",
              "\n",
              "    .colab-df-convert:hover {\n",
              "      background-color: #E2EBFA;\n",
              "      box-shadow: 0px 1px 2px rgba(60, 64, 67, 0.3), 0px 1px 3px 1px rgba(60, 64, 67, 0.15);\n",
              "      fill: #174EA6;\n",
              "    }\n",
              "\n",
              "    [theme=dark] .colab-df-convert {\n",
              "      background-color: #3B4455;\n",
              "      fill: #D2E3FC;\n",
              "    }\n",
              "\n",
              "    [theme=dark] .colab-df-convert:hover {\n",
              "      background-color: #434B5C;\n",
              "      box-shadow: 0px 1px 3px 1px rgba(0, 0, 0, 0.15);\n",
              "      filter: drop-shadow(0px 1px 2px rgba(0, 0, 0, 0.3));\n",
              "      fill: #FFFFFF;\n",
              "    }\n",
              "  </style>\n",
              "\n",
              "      <script>\n",
              "        const buttonEl =\n",
              "          document.querySelector('#df-0d393c61-6fb5-4c18-8f63-be85761f1091 button.colab-df-convert');\n",
              "        buttonEl.style.display =\n",
              "          google.colab.kernel.accessAllowed ? 'block' : 'none';\n",
              "\n",
              "        async function convertToInteractive(key) {\n",
              "          const element = document.querySelector('#df-0d393c61-6fb5-4c18-8f63-be85761f1091');\n",
              "          const dataTable =\n",
              "            await google.colab.kernel.invokeFunction('convertToInteractive',\n",
              "                                                     [key], {});\n",
              "          if (!dataTable) return;\n",
              "\n",
              "          const docLinkHtml = 'Like what you see? Visit the ' +\n",
              "            '<a target=\"_blank\" href=https://colab.research.google.com/notebooks/data_table.ipynb>data table notebook</a>'\n",
              "            + ' to learn more about interactive tables.';\n",
              "          element.innerHTML = '';\n",
              "          dataTable['output_type'] = 'display_data';\n",
              "          await google.colab.output.renderOutput(dataTable, element);\n",
              "          const docLink = document.createElement('div');\n",
              "          docLink.innerHTML = docLinkHtml;\n",
              "          element.appendChild(docLink);\n",
              "        }\n",
              "      </script>\n",
              "    </div>\n",
              "  </div>\n",
              "  "
            ]
          },
          "metadata": {},
          "execution_count": 34
        }
      ],
      "source": [
        "# Applying text preprocessing on emails\n",
        "email_data['text'] = email_data['text'].apply(lambda x: text_preprocessing(x))\n",
        "email_data.head()"
      ]
    },
    {
      "cell_type": "code",
      "execution_count": null,
      "metadata": {
        "id": "EMhu_CGguYfm"
      },
      "outputs": [],
      "source": [
        "# Shuffle and get ratio of training/test data\n",
        "email_data = email_data.sample(frac=1)\n",
        "data_split_ratio = round(len(email_data) * 0.8)\n",
        "\n",
        "# Split data into respective sets\n",
        "train_set= email_data[:data_split_ratio].reset_index(drop=True)\n",
        "test_set = email_data[data_split_ratio:].reset_index(drop=True)"
      ]
    },
    {
      "cell_type": "code",
      "execution_count": null,
      "metadata": {
        "id": "ROJS90nVuMoY"
      },
      "outputs": [],
      "source": [
        "# Get spam and ham emails / Set bias\n",
        "spam_emails = train_set[train_set['spam'] == True]\n",
        "ham_emails = train_set[train_set['spam'] == False]\n",
        "\n",
        "bias = np.log(len(spam_emails) / len(ham_emails))\n",
        "\n",
        "# Get spam and ham words / Common words\n",
        "train_spam_words = ' '.join(train_set[train_set.spam == True].text).split(' ')\n",
        "train_ham_words = ' '.join(train_set[train_set.spam == False].text).split(' ')\n",
        "common_words = set(train_spam_words).intersection(set(train_ham_words))"
      ]
    },
    {
      "cell_type": "code",
      "execution_count": null,
      "metadata": {
        "id": "9-b6Z0bWv_nV"
      },
      "outputs": [],
      "source": [
        "# P(Spam)\n",
        "p_spam = dict()\n",
        "for w in common_words:\n",
        "    p_spam[w] = train_spam_words.count(w) / len(train_spam_words) # What fraction of the spam words are this particular word\n",
        "\n",
        "# P(Ham)\n",
        "p_ham = dict()\n",
        "for w in common_words:\n",
        "    p_ham[w] = train_ham_words.count(w) / len(train_ham_words) # What fraction of the ham words are this particular word"
      ]
    },
    {
      "cell_type": "code",
      "execution_count": null,
      "metadata": {
        "id": "TYNDKsTcw1EW"
      },
      "outputs": [],
      "source": [
        "def predict(t):\n",
        "    # Ignore if word doesn't appear in either spam or ham\n",
        "    processed_words = [w for w in t if w in p_spam] # Or could be p_ham doesn't matter since they have the same key\n",
        "\n",
        "    # Classifier\n",
        "    a = bias\n",
        "    for w in processed_words:\n",
        "      a += np.log(p_ham[w] / p_spam[w])\n",
        "\n",
        "    if(a > 0): \n",
        "      return False\n",
        "    elif (a < 0):\n",
        "      return True\n",
        "    else: \n",
        "      return None"
      ]
    },
    {
      "cell_type": "code",
      "execution_count": null,
      "metadata": {
        "id": "OXOWBowSxpfK"
      },
      "outputs": [],
      "source": [
        "# Convert test set to numpy array\n",
        "arr_test_set = np.array(test_set['spam'])\n",
        "\n",
        "# Predict spam or ham on test set\n",
        "predictions = np.array(test_set.text.apply(lambda t: predict(t.split())))"
      ]
    },
    {
      "cell_type": "code",
      "execution_count": null,
      "metadata": {
        "colab": {
          "base_uri": "https://localhost:8080/"
        },
        "id": "RNDaw4rCNZuM",
        "outputId": "9e59360f-6384-43bc-afb1-d7ef803f8923"
      },
      "outputs": [
        {
          "output_type": "execute_result",
          "data": {
            "text/plain": [
              "array([False, False, False, False, False,  True, False,  True, False,\n",
              "        True, False, False, False,  True,  True, False, False, False,\n",
              "        True,  True,  True,  True, False,  True, False, False, False,\n",
              "        True, False,  True, False,  True,  True,  True, False, False,\n",
              "        True, False,  True,  True,  True,  True,  True,  True, False,\n",
              "       False, False, False,  True,  True])"
            ]
          },
          "metadata": {},
          "execution_count": 40
        }
      ],
      "source": [
        "arr_test_set"
      ]
    },
    {
      "cell_type": "code",
      "execution_count": null,
      "metadata": {
        "colab": {
          "base_uri": "https://localhost:8080/"
        },
        "id": "XbcPeFR1N45M",
        "outputId": "604e7e25-ac93-4a1d-f85d-d8877c0e0b31"
      },
      "outputs": [
        {
          "output_type": "execute_result",
          "data": {
            "text/plain": [
              "array([False, False,  True, False, False,  True, False,  True, False,\n",
              "        True,  True, False, False,  True,  True, False,  True,  True,\n",
              "        True,  True,  True,  True,  True,  True, False, False, False,\n",
              "        True, False,  True, False,  True,  True,  True, False, False,\n",
              "        True, False,  True,  True,  True,  True,  True,  True, False,\n",
              "       False,  True,  True,  True,  True])"
            ]
          },
          "metadata": {},
          "execution_count": 41
        }
      ],
      "source": [
        "predictions"
      ]
    },
    {
      "cell_type": "code",
      "execution_count": null,
      "metadata": {
        "colab": {
          "base_uri": "https://localhost:8080/"
        },
        "id": "vPdDIyO12p99",
        "outputId": "2e4cee55-3128-4db9-f3e2-fb5e8a9a1228"
      },
      "outputs": [
        {
          "output_type": "stream",
          "name": "stdout",
          "text": [
            "The spam filter is 86.0% accurate\n",
            "Correct: 43\n",
            "Incorrect: 50\n",
            "\n",
            "Confusion Matrix:\n",
            "[[19  7]\n",
            " [ 0 24]]\n"
          ]
        }
      ],
      "source": [
        "# Calculating confustion matrix and accuracy\n",
        "TP = np.sum((test_set.spam == False) & (predictions == False)) # False = 1 it's Ham\n",
        "TN = np.sum((test_set.spam == True) & (predictions == True)) # True = -1 it's Spam\n",
        "FP= np.sum((test_set.spam == False) & (predictions == True)) \n",
        "FN = np.sum((test_set.spam == True) & (predictions == False))\n",
        "\n",
        "accuracy = (TP + TN) / len(test_set) * 100\n",
        "correct = TP + TN\n",
        "incorrect = FP + FN\n",
        "\n",
        "print(\"The spam filter is \" + str(accuracy) + \"% accurate\")\n",
        "print(\"Correct: \" + str(correct) + \"\\nIncorrect: \" + str(len(test_set)))\n",
        "\n",
        "print(\"\\nConfusion Matrix:\")\n",
        "confusion_matrix = np.array([[TP, FP], [FN, TN]])\n",
        "print(confusion_matrix)"
      ]
    },
    {
      "cell_type": "code",
      "execution_count": null,
      "metadata": {
        "colab": {
          "base_uri": "https://localhost:8080/",
          "height": 348
        },
        "id": "P_UOEk72dx3k",
        "outputId": "59407973-8b46-459e-b3f9-34727e85d6b5"
      },
      "outputs": [
        {
          "output_type": "stream",
          "name": "stdout",
          "text": [
            "70% training / 30% testing, Avg of 5: 88.0\n",
            "80% training / 20% testing, Avg of 5: 90.18\n",
            "90% training / 10% testing, Avg of 5: 92.4\n"
          ]
        },
        {
          "output_type": "execute_result",
          "data": {
            "text/plain": [
              "<matplotlib.legend.Legend at 0x7f77126835d0>"
            ]
          },
          "metadata": {},
          "execution_count": 43
        },
        {
          "output_type": "display_data",
          "data": {
            "text/plain": [
              "<Figure size 432x288 with 1 Axes>"
            ],
            "image/png": "[encoded data removed]"
          },
          "metadata": {
            "needs_background": "light"
          }
        }
      ],
      "source": [
        "# Trial runs of different training and testing splits\n",
        "seventy = np.array([86.66, 84.00, 90.66, 90.66, 88.00])\n",
        "eighty =  np.array([90.90, 96.00, 88.00, 84.00, 92.00])\n",
        "ninety = np.array([94.00, 92.00, 92.00, 88.00, 96.00])\n",
        "\n",
        "# Averages\n",
        "avg_seventy = np.average(seventy)\n",
        "avg_eighty = np.average(eighty)\n",
        "avg_ninety = np.average(ninety)\n",
        "\n",
        "print(\"70% training / 30% testing, Avg of 5: \" + str(np.round(avg_seventy, 2)))\n",
        "print(\"80% training / 20% testing, Avg of 5: \" + str(np.round(avg_eighty, 2)))\n",
        "print(\"90% training / 10% testing, Avg of 5: \" + str(np.round(avg_ninety, 2)))\n",
        "\n",
        "# Domain\n",
        "x = np.array([1, 2, 3, 4, 5])\n",
        "\n",
        "# X - Axis\n",
        "plt.xlabel('Number of Trials')\n",
        "# Y - Axis\n",
        "plt.ylabel('Accuracy')\n",
        "\n",
        "# Plotting\n",
        "plt.plot(x, np.sort(seventy), 'r')\n",
        "plt.plot(x, np.sort(eighty), 'g')\n",
        "plt.plot(x, np.sort(ninety), 'b')\n",
        "\n",
        "# Legend\n",
        "plt.legend(['70% Training', '80% Training', '90% Training']) "
      ]
    }
  ],
  "metadata": {
    "colab": {
      "provenance": []
    },
    "kernelspec": {
      "display_name": "Python 3",
      "name": "python3"
    },
    "language_info": {
      "name": "python"
    }
  },
  "nbformat": 4,
  "nbformat_minor": 0
}